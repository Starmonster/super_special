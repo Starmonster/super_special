{
 "cells": [
  {
   "cell_type": "markdown",
   "id": "81ee5df3",
   "metadata": {},
   "source": [
    "# BOT PROJECT\n",
    "#### NOTEBOOK AIM\n",
    "This notebook initially acts as notebook / script 1 in the below BOT METHOD #1. See below for details."
   ]
  },
  {
   "cell_type": "markdown",
   "id": "52181eb0",
   "metadata": {},
   "source": [
    "### BOT METHOD #1\n",
    "**Notebook / Script 1:**\n",
    "1. Call in a websocket price stream from coinbase pro. \n",
    "2. Every new minute send close/open (seconds==0) price to a pickle file (dataframe or dictionary)\n",
    "3. Set a high low price for the given minute and adjust it as the stream sets new records. The low / high value should be reset to the 1m candle open price each minute\n",
    "4. Every time the high/low changes send the new price to a pickle file\n",
    "\n",
    "\n",
    "**Notebook / Script 2:** \n",
    "1. Calls in the passed close/open price every minute to calculate and construct a supertrend dataframe \n",
    "2. So the above will be the close of the last candle and the open of the current candle\n",
    "3. Also calls in the low high value passed by notebook 1. \n",
    "4. Intra-minute the low high will fluctuate as new records are set\n",
    "5. Handles the connection to trade platform\n",
    "6. Executes buy / sell orders on supertrend\n",
    "7. Executes take profits / stops base on the latest high low values passes from the coinbase websocket\n",
    "\n",
    "**Possible Problems**\n",
    "1. The extra time required to pass new high lows from one script to the next could mean a loss of trade value\n",
    "2. We don't know the problem of having two connections open at once - is this possible even from separate notebooks.\n",
    "3. Need to solve how to update the supertrend with a dataframe updating every minute"
   ]
  },
  {
   "cell_type": "code",
   "execution_count": null,
   "id": "43ea56ba",
   "metadata": {},
   "outputs": [],
   "source": [
    "# !pip install rel"
   ]
  },
  {
   "cell_type": "code",
   "execution_count": null,
   "id": "1b901abf",
   "metadata": {},
   "outputs": [],
   "source": [
    "# Import packages\n",
    "import pandas as pd\n",
    "import cbpro\n",
    "from credscb import creds\n",
    "import websocket, json\n",
    "import time\n",
    "from datetime import datetime, timedelta, timezone\n",
    "import pandas_ta as ta\n",
    "import rel"
   ]
  },
  {
   "cell_type": "code",
   "execution_count": null,
   "id": "e895068f",
   "metadata": {},
   "outputs": [],
   "source": [
    "# Set the socket endpoint - coinbase pro feed\n",
    "socket = \"wss://ws-feed.pro.coinbase.com\""
   ]
  },
  {
   "cell_type": "code",
   "execution_count": null,
   "id": "dc4c87da",
   "metadata": {},
   "outputs": [],
   "source": [
    "def on_open(ws):\n",
    "    \"\"\"\n",
    "    This function is called from the websocket method and holds the required info for the ws request\n",
    "    \"\"\"\n",
    "    print('the socket is opened')\n",
    "    subscribe_msg = {\n",
    "        'type': 'subscribe',\n",
    "        'channels':[\n",
    "            {'name': 'ticker',\n",
    "             'product_ids':['BTC-USD']}\n",
    "        ]\n",
    "    }\n",
    "    error_msg = {\n",
    "        'type': \"error\",\n",
    "        'message': \"connection lost!\"\n",
    "    }\n",
    "    ws.send(json.dumps(subscribe_msg))\n",
    "    ws.send(json.dumps(error_msg))"
   ]
  },
  {
   "cell_type": "code",
   "execution_count": null,
   "id": "cb285fdf",
   "metadata": {},
   "outputs": [],
   "source": [
    "# BASIC ON MESSAGE FUNCTION - LET\"S BUILD INCREMENTALLY AS THE WEBSOCKET WAS FAILING WITH THE PREFERRED ABOVE\n",
    "\n",
    "high = float()\n",
    "low = float()\n",
    "\n",
    "# Set an empty Master dataframe to store new and complete 1m price data\n",
    "prices = pd.DataFrame(columns=[\"time\", \"open\", \"high\", \"low\", \"close\"])\n",
    "\n",
    "high_low_set = False\n",
    "\n",
    "\n",
    "def on_message(ws, message):\n",
    "    \"\"\"\n",
    "    This function handles the data retrieved from the websocket. We store the message into a json dict and then we\n",
    "    can manage the data\n",
    "    \"\"\"\n",
    "    global prices\n",
    "    global high\n",
    "    global low\n",
    "    global high_low_set\n",
    "\n",
    "    \n",
    "    data = json.loads(message)\n",
    "    datetime_val = pd.to_datetime(data[\"time\"])\n",
    "    \n",
    "    if datetime_val.second<2 and high_low_set==False:\n",
    "        # This can trigger up to five times with multiple messages within the first second of new candle\n",
    "        prices = prices.append({'time': datetime_val,\n",
    "                                'open': data['price'], \n",
    "                                'high': data['price'],\n",
    "                                'low': data['price'],\n",
    "                                'close': data['price']\n",
    "                               }, ignore_index=True)\n",
    "        print(f\"1m price added! {datetime.now()}\")\n",
    "        \n",
    "        # Set the high low of the current (just started candle) to the first of message (second==0) open price\n",
    "        high = data['price']\n",
    "        low = data['price']\n",
    "        \n",
    "        # Set High_low_set to True\n",
    "        high_low_set = True\n",
    "    \n",
    "        prices.tail().to_csv(\"prices_test.csv\", index=False)\n",
    "    \n",
    "    ## ADD another IF statement here to check a second=0 data message was actually recieved. If not it will \n",
    "    ## Mess up the data continuity and also the supertrend calculations!!\n",
    "    \n",
    "    elif datetime_val.second==59:\n",
    "        # Get the last streamed price within current minute and set the close price of the candle to this price!\n",
    "        close = data['price']\n",
    "        prices.iat[-1, 4]=close   \n",
    "        high_low_set = False ## moved to next statement\n",
    "        prices.tail().to_csv(\"prices_test.csv\", index=False)\n",
    "        \n",
    "\n",
    "        #### WITH THIS ELIF STATEMENT WE DON\"T CHECK HIGHS LOWS WHEN SECOND==59 We need to fix this\n",
    "        #### We could add an if else in this elif or just change the high/low checks to there own if statement\n",
    "     \n",
    "    # Set a statement to reset the high_low_set back to False\n",
    "#     elif datetime_val.second>10 and high_low_set == True:\n",
    "#         high_low_set=False\n",
    "        #### IF WE DON:T RECIEVE A second==59 message -  the high_low will not be reset. All we need to do \n",
    "        #### Here is say any second above second == 10 and the high_low gets reset!! Solved\n",
    "        \n",
    "        \n",
    "    \n",
    "    # Always check \n",
    "    elif data['price']>high:\n",
    "        # Change the high price at our last data points\n",
    "        high = data['price']\n",
    "        prices.iat[-1, 2]=high\n",
    "        # Update the csv\n",
    "        prices.tail().to_csv(\"prices_test.csv\", index=False)\n",
    "    elif data['price']<low:\n",
    "        # Change the low price at our last data points\n",
    "        low = data['price']\n",
    "        prices.iat[-1, 3] = low\n",
    "        # Update the csv\n",
    "        prices.tail().to_csv(\"prices_test.csv\", index=False)\n",
    "    \n",
    "\n",
    "    if data[\"type\"]==\"error\":\n",
    "        print(\"we have an error\")"
   ]
  },
  {
   "cell_type": "code",
   "execution_count": null,
   "id": "45565349",
   "metadata": {},
   "outputs": [],
   "source": [
    "# Set the websocket request to a variable\n",
    "ws = websocket.WebSocketApp(socket, on_open=on_open, on_message=on_message)"
   ]
  },
  {
   "cell_type": "code",
   "execution_count": null,
   "id": "a414e467",
   "metadata": {
    "scrolled": true
   },
   "outputs": [],
   "source": [
    "# Call in the websocket feed\n",
    "while True:\n",
    "    try:\n",
    "        ws.run_forever()\n",
    "    except:\n",
    "        time.sleep(5)\n",
    "\n",
    "  "
   ]
  },
  {
   "cell_type": "code",
   "execution_count": null,
   "id": "2c18952c",
   "metadata": {},
   "outputs": [],
   "source": []
  },
  {
   "cell_type": "code",
   "execution_count": null,
   "id": "f21217d9",
   "metadata": {},
   "outputs": [],
   "source": [
    "pd.read_csv(\"prices_test.csv\")"
   ]
  },
  {
   "cell_type": "markdown",
   "id": "a36adbf9",
   "metadata": {},
   "source": [
    "## SANDPIT"
   ]
  },
  {
   "cell_type": "markdown",
   "id": "b660bf84",
   "metadata": {},
   "source": [
    "Look into error handling and re-connections!"
   ]
  },
  {
   "cell_type": "code",
   "execution_count": null,
   "id": "7949e7a1",
   "metadata": {},
   "outputs": [],
   "source": [
    "def on_test(ws, message):\n",
    "    data = json.loads(message)\n",
    "    if data[\"type\"]==\"error\":\n",
    "        print(\"we have an error\")\n",
    "    else:\n",
    "        print(data[\"price\"])\n",
    "    "
   ]
  },
  {
   "cell_type": "code",
   "execution_count": null,
   "id": "f39e01f7",
   "metadata": {},
   "outputs": [],
   "source": [
    "# Set the websocket request to a variable\n",
    "wsx = websocket.WebSocketApp(socket, on_open=on_open, on_message=on_test)"
   ]
  },
  {
   "cell_type": "code",
   "execution_count": null,
   "id": "189e37be",
   "metadata": {},
   "outputs": [],
   "source": [
    "wsx.run_forever()"
   ]
  },
  {
   "cell_type": "code",
   "execution_count": null,
   "id": "b502adb0",
   "metadata": {},
   "outputs": [],
   "source": []
  },
  {
   "cell_type": "code",
   "execution_count": null,
   "id": "5e9a19b7",
   "metadata": {},
   "outputs": [],
   "source": [
    "pd.DataFrame({'open': 34, \n",
    "              'high': 43,\n",
    "              'low': 54,\n",
    "              'close': 65,\n",
    "              'time': datetime.now()}, index=range(0,4))"
   ]
  },
  {
   "cell_type": "code",
   "execution_count": null,
   "id": "2be68fbc",
   "metadata": {},
   "outputs": [],
   "source": []
  },
  {
   "cell_type": "markdown",
   "id": "ff5085fb",
   "metadata": {},
   "source": [
    "\n",
    "#### REDUNDANT ON MESSAGE FUNCTION"
   ]
  },
  {
   "cell_type": "code",
   "execution_count": null,
   "id": "58e06160",
   "metadata": {},
   "outputs": [],
   "source": [
    "# Set an empty dataframe to store the prices\n",
    "prices = pd.DataFrame(columns=[\"time\", \"open\", \"high\", \"low\", \"close\"])\n",
    "prices"
   ]
  },
  {
   "cell_type": "code",
   "execution_count": null,
   "id": "ca55564d",
   "metadata": {},
   "outputs": [],
   "source": [
    "prices = prices.append({'time': datetime.now(),\n",
    "                        'open': 43000, \n",
    "                        'high': 43000,\n",
    "                        'low': 43000,\n",
    "                        'close': 43000}, ignore_index=True)"
   ]
  },
  {
   "cell_type": "code",
   "execution_count": null,
   "id": "74dad2f9",
   "metadata": {},
   "outputs": [],
   "source": [
    "prices"
   ]
  },
  {
   "cell_type": "code",
   "execution_count": null,
   "id": "ac68c1bd",
   "metadata": {},
   "outputs": [],
   "source": []
  },
  {
   "cell_type": "code",
   "execution_count": null,
   "id": "aee4775f",
   "metadata": {},
   "outputs": [],
   "source": [
    "prices.iloc[-1]"
   ]
  },
  {
   "cell_type": "code",
   "execution_count": null,
   "id": "e0cabd1a",
   "metadata": {},
   "outputs": [],
   "source": [
    "new_high = 43500\n",
    "old_high = 43000\n",
    "\n",
    "if new_high > old_high:\n",
    "    print(\"yes\")\n",
    "    prices.iat[-1, 1]=new_high\n",
    "elif new_low < old_low:\n",
    "    print(\"yes\")\n",
    "    prices.iat[-1, 2]=new_low"
   ]
  },
  {
   "cell_type": "code",
   "execution_count": null,
   "id": "b5231060",
   "metadata": {},
   "outputs": [],
   "source": [
    "prices.iat[-1, 1]=19"
   ]
  },
  {
   "cell_type": "code",
   "execution_count": null,
   "id": "acebccdb",
   "metadata": {},
   "outputs": [],
   "source": []
  }
 ],
 "metadata": {
  "kernelspec": {
   "display_name": "learn-env",
   "language": "python",
   "name": "learn-env"
  },
  "language_info": {
   "codemirror_mode": {
    "name": "ipython",
    "version": 3
   },
   "file_extension": ".py",
   "mimetype": "text/x-python",
   "name": "python",
   "nbconvert_exporter": "python",
   "pygments_lexer": "ipython3",
   "version": "3.6.6"
  }
 },
 "nbformat": 4,
 "nbformat_minor": 5
}
